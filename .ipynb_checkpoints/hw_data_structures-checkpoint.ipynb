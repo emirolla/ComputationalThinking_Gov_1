{
 "cells": [
  {
   "cell_type": "code",
   "execution_count": 1,
   "metadata": {},
   "outputs": [],
   "source": [
    "import pandas"
   ]
  },
  {
   "cell_type": "code",
   "execution_count": 2,
   "metadata": {},
   "outputs": [],
   "source": [
    "names=[\"Tomás\", \"Pauline\", \"Pablo\", \"Bjork\",\"Alan\",\"Juana\"]\n",
    "woman=[False,True,False,False,False,True]\n",
    "ages=[32,33,28,30,32,27]\n",
    "country=[\"Chile\", \"Senegal\", \"Spain\", \"Norway\",\"Peru\",\"Peru\"]\n",
    "education=[\"Bach\", \"Bach\", \"Master\", \"PhD\",\"Bach\",\"Master\"]"
   ]
  },
  {
   "cell_type": "code",
   "execution_count": 3,
   "metadata": {},
   "outputs": [
    {
     "data": {
      "text/plain": [
       "{'Names': ['Tomás', 'Pauline', 'Pablo', 'Bjork', 'Alan', 'Juana'],\n",
       " 'Woman': [False, True, False, False, False, True],\n",
       " 'Ages': [32, 33, 28, 30, 32, 27],\n",
       " 'Country': ['Chile', 'Senegal', 'Spain', 'Norway', 'Peru', 'Peru'],\n",
       " 'Education': ['Bach', 'Bach', 'Master', 'PhD', 'Bach', 'Master']}"
      ]
     },
     "execution_count": 3,
     "metadata": {},
     "output_type": "execute_result"
    }
   ],
   "source": [
    "data={'Names':names, 'Woman':woman, 'Ages':ages, 'Country': country, 'Education': education}\n",
    "data"
   ]
  },
  {
   "cell_type": "code",
   "execution_count": 4,
   "metadata": {},
   "outputs": [
    {
     "data": {
      "text/html": [
       "<div>\n",
       "<style scoped>\n",
       "    .dataframe tbody tr th:only-of-type {\n",
       "        vertical-align: middle;\n",
       "    }\n",
       "\n",
       "    .dataframe tbody tr th {\n",
       "        vertical-align: top;\n",
       "    }\n",
       "\n",
       "    .dataframe thead th {\n",
       "        text-align: right;\n",
       "    }\n",
       "</style>\n",
       "<table border=\"1\" class=\"dataframe\">\n",
       "  <thead>\n",
       "    <tr style=\"text-align: right;\">\n",
       "      <th></th>\n",
       "      <th>Names</th>\n",
       "      <th>Woman</th>\n",
       "      <th>Ages</th>\n",
       "      <th>Country</th>\n",
       "      <th>Education</th>\n",
       "    </tr>\n",
       "  </thead>\n",
       "  <tbody>\n",
       "    <tr>\n",
       "      <th>0</th>\n",
       "      <td>Tomás</td>\n",
       "      <td>False</td>\n",
       "      <td>32</td>\n",
       "      <td>Chile</td>\n",
       "      <td>Bach</td>\n",
       "    </tr>\n",
       "    <tr>\n",
       "      <th>1</th>\n",
       "      <td>Pauline</td>\n",
       "      <td>True</td>\n",
       "      <td>33</td>\n",
       "      <td>Senegal</td>\n",
       "      <td>Bach</td>\n",
       "    </tr>\n",
       "    <tr>\n",
       "      <th>2</th>\n",
       "      <td>Pablo</td>\n",
       "      <td>False</td>\n",
       "      <td>28</td>\n",
       "      <td>Spain</td>\n",
       "      <td>Master</td>\n",
       "    </tr>\n",
       "    <tr>\n",
       "      <th>3</th>\n",
       "      <td>Bjork</td>\n",
       "      <td>False</td>\n",
       "      <td>30</td>\n",
       "      <td>Norway</td>\n",
       "      <td>PhD</td>\n",
       "    </tr>\n",
       "    <tr>\n",
       "      <th>4</th>\n",
       "      <td>Alan</td>\n",
       "      <td>False</td>\n",
       "      <td>32</td>\n",
       "      <td>Peru</td>\n",
       "      <td>Bach</td>\n",
       "    </tr>\n",
       "    <tr>\n",
       "      <th>5</th>\n",
       "      <td>Juana</td>\n",
       "      <td>True</td>\n",
       "      <td>27</td>\n",
       "      <td>Peru</td>\n",
       "      <td>Master</td>\n",
       "    </tr>\n",
       "  </tbody>\n",
       "</table>\n",
       "</div>"
      ],
      "text/plain": [
       "     Names  Woman  Ages  Country Education\n",
       "0    Tomás  False    32    Chile      Bach\n",
       "1  Pauline   True    33  Senegal      Bach\n",
       "2    Pablo  False    28    Spain    Master\n",
       "3    Bjork  False    30   Norway       PhD\n",
       "4     Alan  False    32     Peru      Bach\n",
       "5    Juana   True    27     Peru    Master"
      ]
     },
     "execution_count": 4,
     "metadata": {},
     "output_type": "execute_result"
    }
   ],
   "source": [
    "friends=pandas.DataFrame.from_dict(data)\n",
    "friends"
   ]
  },
  {
   "cell_type": "code",
   "execution_count": 19,
   "metadata": {},
   "outputs": [
    {
     "data": {
      "text/plain": [
       "2    Spain\n",
       "Name: Country, dtype: object"
      ]
     },
     "execution_count": 19,
     "metadata": {},
     "output_type": "execute_result"
    }
   ],
   "source": [
    "#Where is the youngest male in the group from? #sort_values()\n",
    "friends[friends.Woman==False].sort_values('Ages',ascending=False).tail(1).Country"
   ]
  },
  {
   "cell_type": "code",
   "execution_count": 107,
   "metadata": {},
   "outputs": [
    {
     "data": {
      "text/plain": [
       "0    False\n",
       "1       27\n",
       "2    False\n",
       "3    False\n",
       "4    False\n",
       "5       27\n",
       "Name: Woman, dtype: object"
      ]
     },
     "execution_count": 107,
     "metadata": {},
     "output_type": "execute_result"
    }
   ],
   "source": [
    "#Where is the youngest male in the group from? #where() and min()\n",
    "s = friends.Woman\n",
    "s.where(friends.Woman==False, friends['Ages'].min()) \n",
    "#I have tried many different combinations to try to figure out how to add conditions for Ages and Country, but I cannot do so without consistently getting error reports)\n",
    "#When I use friends['Ages'].min(), it keeps spitting out 27 which is the youngest for the female, not the males. All the research I came across could only guide in changing values in tables, not producing a single response.\n",
    "\n",
    "\n"
   ]
  },
  {
   "cell_type": "code",
   "execution_count": 75,
   "metadata": {},
   "outputs": [
    {
     "data": {
      "text/plain": [
       "27"
      ]
     },
     "execution_count": 75,
     "metadata": {},
     "output_type": "execute_result"
    }
   ],
   "source": [
    "#I did this to practice min() because I cannot figure out where()\n",
    "friends['Ages'].min()"
   ]
  },
  {
   "cell_type": "code",
   "execution_count": 110,
   "metadata": {},
   "outputs": [
    {
     "ename": "SyntaxError",
     "evalue": "can't assign to function call (<ipython-input-110-cdca945c8963>, line 4)",
     "output_type": "error",
     "traceback": [
      "\u001b[0;36m  File \u001b[0;32m\"<ipython-input-110-cdca945c8963>\"\u001b[0;36m, line \u001b[0;32m4\u001b[0m\n\u001b[0;31m    friends(randn(False)), columns=list('Ages')\u001b[0m\n\u001b[0m                                               ^\u001b[0m\n\u001b[0;31mSyntaxError\u001b[0m\u001b[0;31m:\u001b[0m can't assign to function call\n"
     ]
    }
   ],
   "source": [
    "#Where is the youngest male in the group from? #query() and min()\n",
    "from numpy.random import randn\n",
    "from pandas import friends\n",
    "friends(randn(False)), columns=list('Ages')\n",
    "df.query('Ages')\n"
   ]
  },
  {
   "cell_type": "code",
   "execution_count": null,
   "metadata": {},
   "outputs": [],
   "source": []
  }
 ],
 "metadata": {
  "kernelspec": {
   "display_name": "Python 3",
   "language": "python",
   "name": "python3"
  },
  "language_info": {
   "codemirror_mode": {
    "name": "ipython",
    "version": 3
   },
   "file_extension": ".py",
   "mimetype": "text/x-python",
   "name": "python",
   "nbconvert_exporter": "python",
   "pygments_lexer": "ipython3",
   "version": "3.7.1"
  }
 },
 "nbformat": 4,
 "nbformat_minor": 2
}
